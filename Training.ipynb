{
 "cells": [
  {
   "cell_type": "code",
   "execution_count": 1,
   "id": "initial_id",
   "metadata": {
    "collapsed": true,
    "ExecuteTime": {
     "end_time": "2023-12-12T16:55:40.116739Z",
     "start_time": "2023-12-12T16:55:39.959896Z"
    }
   },
   "outputs": [],
   "source": [
    "import pandas as pd\n",
    "from sklearn.metrics import confusion_matrix\n",
    "import seaborn as sns\n",
    "from sklearn.model_selection import train_test_split\n",
    "import matplotlib.pyplot as plt\n",
    "from sklearn.feature_extraction.text import CountVectorizer \n",
    "from sklearn.preprocessing import MinMaxScaler\n",
    "from sklearn.ensemble import RandomForestClassifier, ExtraTreesClassifier\n",
    "from sklearn.tree import DecisionTreeClassifier, ExtraTreeClassifier\n",
    "from sklearn.neighbors import KNeighborsClassifier, RadiusNeighborsClassifier\n",
    "from sklearn.metrics import roc_curve, auc\n",
    "from sklearn.svm import SVC, LinearSVC\n",
    "from sklearn.calibration import CalibratedClassifierCV\n",
    "import pickle"
   ]
  },
  {
   "cell_type": "markdown",
   "source": [
    "## Data cleaning\n",
    "Leggo il dataset, levo le colonne che non sono inerenti per l'addestramento del modello e lo divido il dataset in modo da avere dati da dare in pasto al modello una volta in funzione"
   ],
   "metadata": {
    "collapsed": false
   },
   "id": "a5de68cb70df33cf"
  },
  {
   "cell_type": "code",
   "execution_count": null,
   "outputs": [],
   "source": [
    "file_path = \"Dataset.csv\"\n",
    "df = pd.read_csv(file_path,encoding='utf-8')\n",
    "df = df.drop(df.index[11330:19342])\n",
    "x = df['Query']  # Query SQL\n",
    "y = df['Label']  # Lab\n",
    "print(df.count())\n",
    "x_train,x_use,y_train,y_use= train_test_split(x,y,test_size=0.2,random_state=42)\n",
    "df= pd.DataFrame(x_train)\n",
    "df['Label'] = y_train"
   ],
   "metadata": {
    "collapsed": false
   },
   "id": "46442752aa00ec57"
  },
  {
   "cell_type": "markdown",
   "source": [
    "Ora che ho il mio sub-dataset, posso procedere con la fase di data cleaning, in primis procedo ad portare tutto in minuscolo"
   ],
   "metadata": {
    "collapsed": false
   },
   "id": "7b2b2853f04cfb30"
  },
  {
   "cell_type": "code",
   "execution_count": 4,
   "outputs": [
    {
     "data": {
      "text/plain": "                                                   Query  Label\n26851           select fairly ( s from volume right join      0\n1866                1' in boolean mode  )   order by 1--      1\n4949   1\" and 3824  =  benchmark  (  5000000,md5  (  ...      1\n26246  select * from tone where several between '1996...      0\n8451   1\" where 4445  =  4445 procedure analyse  (  e...      1\n...                                                  ...    ...\n19976   select left ( customername, 5 )  as extractst...      0\n29587  select * from her where yes between deep09/01/...      0\n5390   1'  )   and 4380  =  5851 and   (  'cxcl'  =  ...      1\n860     select * from users where id  =  1 or 1#\"{ un...      1\n23807  select instrument from way union select vast f...      0\n\n[18325 rows x 2 columns]",
      "text/html": "<div>\n<style scoped>\n    .dataframe tbody tr th:only-of-type {\n        vertical-align: middle;\n    }\n\n    .dataframe tbody tr th {\n        vertical-align: top;\n    }\n\n    .dataframe thead th {\n        text-align: right;\n    }\n</style>\n<table border=\"1\" class=\"dataframe\">\n  <thead>\n    <tr style=\"text-align: right;\">\n      <th></th>\n      <th>Query</th>\n      <th>Label</th>\n    </tr>\n  </thead>\n  <tbody>\n    <tr>\n      <th>26851</th>\n      <td>select fairly ( s from volume right join</td>\n      <td>0</td>\n    </tr>\n    <tr>\n      <th>1866</th>\n      <td>1' in boolean mode  )   order by 1--</td>\n      <td>1</td>\n    </tr>\n    <tr>\n      <th>4949</th>\n      <td>1\" and 3824  =  benchmark  (  5000000,md5  (  ...</td>\n      <td>1</td>\n    </tr>\n    <tr>\n      <th>26246</th>\n      <td>select * from tone where several between '1996...</td>\n      <td>0</td>\n    </tr>\n    <tr>\n      <th>8451</th>\n      <td>1\" where 4445  =  4445 procedure analyse  (  e...</td>\n      <td>1</td>\n    </tr>\n    <tr>\n      <th>...</th>\n      <td>...</td>\n      <td>...</td>\n    </tr>\n    <tr>\n      <th>19976</th>\n      <td>select left ( customername, 5 )  as extractst...</td>\n      <td>0</td>\n    </tr>\n    <tr>\n      <th>29587</th>\n      <td>select * from her where yes between deep09/01/...</td>\n      <td>0</td>\n    </tr>\n    <tr>\n      <th>5390</th>\n      <td>1'  )   and 4380  =  5851 and   (  'cxcl'  =  ...</td>\n      <td>1</td>\n    </tr>\n    <tr>\n      <th>860</th>\n      <td>select * from users where id  =  1 or 1#\"{ un...</td>\n      <td>1</td>\n    </tr>\n    <tr>\n      <th>23807</th>\n      <td>select instrument from way union select vast f...</td>\n      <td>0</td>\n    </tr>\n  </tbody>\n</table>\n<p>18325 rows × 2 columns</p>\n</div>"
     },
     "execution_count": 4,
     "metadata": {},
     "output_type": "execute_result"
    }
   ],
   "source": [
    "df['Query'] = df['Query'].str.lower()\n",
    "df"
   ],
   "metadata": {
    "collapsed": false,
    "ExecuteTime": {
     "end_time": "2023-12-12T16:55:40.180893Z",
     "start_time": "2023-12-12T16:55:40.171904Z"
    }
   },
   "id": "23c6e72d4a0edde8"
  },
  {
   "cell_type": "markdown",
   "source": [
    "Elimino gli spazi bianchi iniziali e finali"
   ],
   "metadata": {
    "collapsed": false
   },
   "id": "ef0da1c32e51a4af"
  },
  {
   "cell_type": "code",
   "execution_count": 5,
   "outputs": [
    {
     "data": {
      "text/plain": "                                                   Query  Label\n26851           select fairly ( s from volume right join      0\n1866                1' in boolean mode  )   order by 1--      1\n4949   1\" and 3824  =  benchmark  (  5000000,md5  (  ...      1\n26246  select * from tone where several between '1996...      0\n8451   1\" where 4445  =  4445 procedure analyse  (  e...      1\n...                                                  ...    ...\n19976  select left ( customername, 5 )  as extractstr...      0\n29587  select * from her where yes between deep09/01/...      0\n5390   1'  )   and 4380  =  5851 and   (  'cxcl'  =  ...      1\n860    select * from users where id  =  1 or 1#\"{ uni...      1\n23807  select instrument from way union select vast f...      0\n\n[18325 rows x 2 columns]",
      "text/html": "<div>\n<style scoped>\n    .dataframe tbody tr th:only-of-type {\n        vertical-align: middle;\n    }\n\n    .dataframe tbody tr th {\n        vertical-align: top;\n    }\n\n    .dataframe thead th {\n        text-align: right;\n    }\n</style>\n<table border=\"1\" class=\"dataframe\">\n  <thead>\n    <tr style=\"text-align: right;\">\n      <th></th>\n      <th>Query</th>\n      <th>Label</th>\n    </tr>\n  </thead>\n  <tbody>\n    <tr>\n      <th>26851</th>\n      <td>select fairly ( s from volume right join</td>\n      <td>0</td>\n    </tr>\n    <tr>\n      <th>1866</th>\n      <td>1' in boolean mode  )   order by 1--</td>\n      <td>1</td>\n    </tr>\n    <tr>\n      <th>4949</th>\n      <td>1\" and 3824  =  benchmark  (  5000000,md5  (  ...</td>\n      <td>1</td>\n    </tr>\n    <tr>\n      <th>26246</th>\n      <td>select * from tone where several between '1996...</td>\n      <td>0</td>\n    </tr>\n    <tr>\n      <th>8451</th>\n      <td>1\" where 4445  =  4445 procedure analyse  (  e...</td>\n      <td>1</td>\n    </tr>\n    <tr>\n      <th>...</th>\n      <td>...</td>\n      <td>...</td>\n    </tr>\n    <tr>\n      <th>19976</th>\n      <td>select left ( customername, 5 )  as extractstr...</td>\n      <td>0</td>\n    </tr>\n    <tr>\n      <th>29587</th>\n      <td>select * from her where yes between deep09/01/...</td>\n      <td>0</td>\n    </tr>\n    <tr>\n      <th>5390</th>\n      <td>1'  )   and 4380  =  5851 and   (  'cxcl'  =  ...</td>\n      <td>1</td>\n    </tr>\n    <tr>\n      <th>860</th>\n      <td>select * from users where id  =  1 or 1#\"{ uni...</td>\n      <td>1</td>\n    </tr>\n    <tr>\n      <th>23807</th>\n      <td>select instrument from way union select vast f...</td>\n      <td>0</td>\n    </tr>\n  </tbody>\n</table>\n<p>18325 rows × 2 columns</p>\n</div>"
     },
     "execution_count": 5,
     "metadata": {},
     "output_type": "execute_result"
    }
   ],
   "source": [
    "df['Query'] = df['Query'].str.strip()\n",
    "df"
   ],
   "metadata": {
    "collapsed": false,
    "ExecuteTime": {
     "end_time": "2023-12-12T16:55:40.232233Z",
     "start_time": "2023-12-12T16:55:40.184258Z"
    }
   },
   "id": "abcd0535720440dc"
  },
  {
   "cell_type": "markdown",
   "source": [
    "Rimuovo il select iniziale da ogni query"
   ],
   "metadata": {
    "collapsed": false
   },
   "id": "3da0f9bd77a2e733"
  },
  {
   "cell_type": "code",
   "execution_count": 6,
   "outputs": [
    {
     "data": {
      "text/plain": "                                                   Query  Label\n26851                  fairly ( s from volume right join      0\n1866                1' in boolean mode  )   order by 1--      1\n4949   1\" and 3824  =  benchmark  (  5000000,md5  (  ...      1\n26246  * from tone where several between '1996-07-01'...      0\n8451   1\" where 4445  =  4445 procedure analyse  (  e...      1\n...                                                  ...    ...\n19976  left ( customername, 5 )  as extractstring fro...      0\n29587  * from her where yes between deep09/01/1996sle...      0\n5390   1'  )   and 4380  =  5851 and   (  'cxcl'  =  ...      1\n860    * from users where id  =  1 or 1#\"{ union sele...      1\n23807  instrument from way union select vast from spo...      0\n\n[18325 rows x 2 columns]",
      "text/html": "<div>\n<style scoped>\n    .dataframe tbody tr th:only-of-type {\n        vertical-align: middle;\n    }\n\n    .dataframe tbody tr th {\n        vertical-align: top;\n    }\n\n    .dataframe thead th {\n        text-align: right;\n    }\n</style>\n<table border=\"1\" class=\"dataframe\">\n  <thead>\n    <tr style=\"text-align: right;\">\n      <th></th>\n      <th>Query</th>\n      <th>Label</th>\n    </tr>\n  </thead>\n  <tbody>\n    <tr>\n      <th>26851</th>\n      <td>fairly ( s from volume right join</td>\n      <td>0</td>\n    </tr>\n    <tr>\n      <th>1866</th>\n      <td>1' in boolean mode  )   order by 1--</td>\n      <td>1</td>\n    </tr>\n    <tr>\n      <th>4949</th>\n      <td>1\" and 3824  =  benchmark  (  5000000,md5  (  ...</td>\n      <td>1</td>\n    </tr>\n    <tr>\n      <th>26246</th>\n      <td>* from tone where several between '1996-07-01'...</td>\n      <td>0</td>\n    </tr>\n    <tr>\n      <th>8451</th>\n      <td>1\" where 4445  =  4445 procedure analyse  (  e...</td>\n      <td>1</td>\n    </tr>\n    <tr>\n      <th>...</th>\n      <td>...</td>\n      <td>...</td>\n    </tr>\n    <tr>\n      <th>19976</th>\n      <td>left ( customername, 5 )  as extractstring fro...</td>\n      <td>0</td>\n    </tr>\n    <tr>\n      <th>29587</th>\n      <td>* from her where yes between deep09/01/1996sle...</td>\n      <td>0</td>\n    </tr>\n    <tr>\n      <th>5390</th>\n      <td>1'  )   and 4380  =  5851 and   (  'cxcl'  =  ...</td>\n      <td>1</td>\n    </tr>\n    <tr>\n      <th>860</th>\n      <td>* from users where id  =  1 or 1#\"{ union sele...</td>\n      <td>1</td>\n    </tr>\n    <tr>\n      <th>23807</th>\n      <td>instrument from way union select vast from spo...</td>\n      <td>0</td>\n    </tr>\n  </tbody>\n</table>\n<p>18325 rows × 2 columns</p>\n</div>"
     },
     "execution_count": 6,
     "metadata": {},
     "output_type": "execute_result"
    }
   ],
   "source": [
    "def remove_select_at_start(query):\n",
    "    if query.startswith('select'):\n",
    "        return query[len('select'):].lstrip()\n",
    "    else:\n",
    "        return query\n",
    "\n",
    "df['Query'] = df['Query'].apply(remove_select_at_start)\n",
    "df"
   ],
   "metadata": {
    "collapsed": false,
    "ExecuteTime": {
     "end_time": "2023-12-12T16:55:40.234451Z",
     "start_time": "2023-12-12T16:55:40.194779Z"
    }
   },
   "id": "b95d6dc211279ec7"
  },
  {
   "cell_type": "markdown",
   "source": [
    "Creo la feature lunghezza, dato che la maggior parte delle query con una lunghezza più grande e molto probabile che sia malevola"
   ],
   "metadata": {
    "collapsed": false
   },
   "id": "5787bce530d0c982"
  },
  {
   "cell_type": "code",
   "execution_count": 7,
   "outputs": [
    {
     "data": {
      "text/plain": "                                                   Query  Label  lunghezza\n26851                  fairly ( s from volume right join      0         33\n1866                1' in boolean mode  )   order by 1--      1         36\n4949   1\" and 3824  =  benchmark  (  5000000,md5  (  ...      1         65\n26246  * from tone where several between '1996-07-01'...      0         63\n8451   1\" where 4445  =  4445 procedure analyse  (  e...      1        166\n...                                                  ...    ...        ...\n19976  left ( customername, 5 )  as extractstring fro...      0         58\n29587  * from her where yes between deep09/01/1996sle...      0         76\n5390   1'  )   and 4380  =  5851 and   (  'cxcl'  =  ...      1         51\n860    * from users where id  =  1 or 1#\"{ union sele...      1         75\n23807  instrument from way union select vast from spo...      0         64\n\n[18325 rows x 3 columns]",
      "text/html": "<div>\n<style scoped>\n    .dataframe tbody tr th:only-of-type {\n        vertical-align: middle;\n    }\n\n    .dataframe tbody tr th {\n        vertical-align: top;\n    }\n\n    .dataframe thead th {\n        text-align: right;\n    }\n</style>\n<table border=\"1\" class=\"dataframe\">\n  <thead>\n    <tr style=\"text-align: right;\">\n      <th></th>\n      <th>Query</th>\n      <th>Label</th>\n      <th>lunghezza</th>\n    </tr>\n  </thead>\n  <tbody>\n    <tr>\n      <th>26851</th>\n      <td>fairly ( s from volume right join</td>\n      <td>0</td>\n      <td>33</td>\n    </tr>\n    <tr>\n      <th>1866</th>\n      <td>1' in boolean mode  )   order by 1--</td>\n      <td>1</td>\n      <td>36</td>\n    </tr>\n    <tr>\n      <th>4949</th>\n      <td>1\" and 3824  =  benchmark  (  5000000,md5  (  ...</td>\n      <td>1</td>\n      <td>65</td>\n    </tr>\n    <tr>\n      <th>26246</th>\n      <td>* from tone where several between '1996-07-01'...</td>\n      <td>0</td>\n      <td>63</td>\n    </tr>\n    <tr>\n      <th>8451</th>\n      <td>1\" where 4445  =  4445 procedure analyse  (  e...</td>\n      <td>1</td>\n      <td>166</td>\n    </tr>\n    <tr>\n      <th>...</th>\n      <td>...</td>\n      <td>...</td>\n      <td>...</td>\n    </tr>\n    <tr>\n      <th>19976</th>\n      <td>left ( customername, 5 )  as extractstring fro...</td>\n      <td>0</td>\n      <td>58</td>\n    </tr>\n    <tr>\n      <th>29587</th>\n      <td>* from her where yes between deep09/01/1996sle...</td>\n      <td>0</td>\n      <td>76</td>\n    </tr>\n    <tr>\n      <th>5390</th>\n      <td>1'  )   and 4380  =  5851 and   (  'cxcl'  =  ...</td>\n      <td>1</td>\n      <td>51</td>\n    </tr>\n    <tr>\n      <th>860</th>\n      <td>* from users where id  =  1 or 1#\"{ union sele...</td>\n      <td>1</td>\n      <td>75</td>\n    </tr>\n    <tr>\n      <th>23807</th>\n      <td>instrument from way union select vast from spo...</td>\n      <td>0</td>\n      <td>64</td>\n    </tr>\n  </tbody>\n</table>\n<p>18325 rows × 3 columns</p>\n</div>"
     },
     "execution_count": 7,
     "metadata": {},
     "output_type": "execute_result"
    }
   ],
   "source": [
    "df['lunghezza'] = df['Query'].apply(len)\n",
    "df"
   ],
   "metadata": {
    "collapsed": false,
    "ExecuteTime": {
     "end_time": "2023-12-12T16:55:40.276901Z",
     "start_time": "2023-12-12T16:55:40.204603Z"
    }
   },
   "id": "69af0f9ae988c4bf"
  },
  {
   "cell_type": "markdown",
   "source": [
    "Creo una nuova feature che mi dica quante select ci sono in una query"
   ],
   "metadata": {
    "collapsed": false
   },
   "id": "ccdfc07c4e619b71"
  },
  {
   "cell_type": "code",
   "execution_count": 8,
   "outputs": [
    {
     "data": {
      "text/plain": "                                                   Query  Label  lunghezza  \\\n26851                  fairly ( s from volume right join      0         33   \n1866                1' in boolean mode  )   order by 1--      1         36   \n4949   1\" and 3824  =  benchmark  (  5000000,md5  (  ...      1         65   \n26246  * from tone where several between '1996-07-01'...      0         63   \n8451   1\" where 4445  =  4445 procedure analyse  (  e...      1        166   \n...                                                  ...    ...        ...   \n19976  left ( customername, 5 )  as extractstring fro...      0         58   \n29587  * from her where yes between deep09/01/1996sle...      0         76   \n5390   1'  )   and 4380  =  5851 and   (  'cxcl'  =  ...      1         51   \n860    * from users where id  =  1 or 1#\"{ union sele...      1         75   \n23807  instrument from way union select vast from spo...      0         64   \n\n       Select_Count  \n26851             0  \n1866              0  \n4949              0  \n26246             0  \n8451              0  \n...             ...  \n19976             0  \n29587             0  \n5390              0  \n860               1  \n23807             1  \n\n[18325 rows x 4 columns]",
      "text/html": "<div>\n<style scoped>\n    .dataframe tbody tr th:only-of-type {\n        vertical-align: middle;\n    }\n\n    .dataframe tbody tr th {\n        vertical-align: top;\n    }\n\n    .dataframe thead th {\n        text-align: right;\n    }\n</style>\n<table border=\"1\" class=\"dataframe\">\n  <thead>\n    <tr style=\"text-align: right;\">\n      <th></th>\n      <th>Query</th>\n      <th>Label</th>\n      <th>lunghezza</th>\n      <th>Select_Count</th>\n    </tr>\n  </thead>\n  <tbody>\n    <tr>\n      <th>26851</th>\n      <td>fairly ( s from volume right join</td>\n      <td>0</td>\n      <td>33</td>\n      <td>0</td>\n    </tr>\n    <tr>\n      <th>1866</th>\n      <td>1' in boolean mode  )   order by 1--</td>\n      <td>1</td>\n      <td>36</td>\n      <td>0</td>\n    </tr>\n    <tr>\n      <th>4949</th>\n      <td>1\" and 3824  =  benchmark  (  5000000,md5  (  ...</td>\n      <td>1</td>\n      <td>65</td>\n      <td>0</td>\n    </tr>\n    <tr>\n      <th>26246</th>\n      <td>* from tone where several between '1996-07-01'...</td>\n      <td>0</td>\n      <td>63</td>\n      <td>0</td>\n    </tr>\n    <tr>\n      <th>8451</th>\n      <td>1\" where 4445  =  4445 procedure analyse  (  e...</td>\n      <td>1</td>\n      <td>166</td>\n      <td>0</td>\n    </tr>\n    <tr>\n      <th>...</th>\n      <td>...</td>\n      <td>...</td>\n      <td>...</td>\n      <td>...</td>\n    </tr>\n    <tr>\n      <th>19976</th>\n      <td>left ( customername, 5 )  as extractstring fro...</td>\n      <td>0</td>\n      <td>58</td>\n      <td>0</td>\n    </tr>\n    <tr>\n      <th>29587</th>\n      <td>* from her where yes between deep09/01/1996sle...</td>\n      <td>0</td>\n      <td>76</td>\n      <td>0</td>\n    </tr>\n    <tr>\n      <th>5390</th>\n      <td>1'  )   and 4380  =  5851 and   (  'cxcl'  =  ...</td>\n      <td>1</td>\n      <td>51</td>\n      <td>0</td>\n    </tr>\n    <tr>\n      <th>860</th>\n      <td>* from users where id  =  1 or 1#\"{ union sele...</td>\n      <td>1</td>\n      <td>75</td>\n      <td>1</td>\n    </tr>\n    <tr>\n      <th>23807</th>\n      <td>instrument from way union select vast from spo...</td>\n      <td>0</td>\n      <td>64</td>\n      <td>1</td>\n    </tr>\n  </tbody>\n</table>\n<p>18325 rows × 4 columns</p>\n</div>"
     },
     "execution_count": 8,
     "metadata": {},
     "output_type": "execute_result"
    }
   ],
   "source": [
    "df['Select_Count'] = df['Query'].str.count('select')\n",
    "df"
   ],
   "metadata": {
    "collapsed": false,
    "ExecuteTime": {
     "end_time": "2023-12-12T16:55:40.278317Z",
     "start_time": "2023-12-12T16:55:40.218030Z"
    }
   },
   "id": "73595ef731bd53f1"
  },
  {
   "cell_type": "markdown",
   "source": [
    "Controllo se è bilanciato"
   ],
   "metadata": {
    "collapsed": false
   },
   "id": "1b9edfbf8f36c5ac"
  },
  {
   "cell_type": "code",
   "execution_count": 9,
   "outputs": [
    {
     "data": {
      "text/plain": "<Figure size 640x480 with 1 Axes>",
      "image/png": "[encoded data removed]"
     },
     "metadata": {},
     "output_type": "display_data"
    },
    {
     "data": {
      "text/plain": "Label\n0    9281\n1    9044\nName: count, dtype: int64"
     },
     "execution_count": 9,
     "metadata": {},
     "output_type": "execute_result"
    }
   ],
   "source": [
    "plt.pie(y_train.value_counts(), labels=['not', 'injection'], autopct=\"%0.2f\")\n",
    "plt.show()\n",
    "y_train.value_counts()"
   ],
   "metadata": {
    "collapsed": false,
    "ExecuteTime": {
     "end_time": "2023-12-12T16:55:40.600325Z",
     "start_time": "2023-12-12T16:55:40.223709Z"
    }
   },
   "id": "611d69dcb095ac3a"
  },
  {
   "cell_type": "markdown",
   "source": [
    "# Data visualization"
   ],
   "metadata": {
    "collapsed": false
   },
   "id": "f1d7f18f59cfa982"
  },
  {
   "cell_type": "markdown",
   "source": [
    "Visualizzo la distribuzione di query in base alla lunghezza "
   ],
   "metadata": {
    "collapsed": false
   },
   "id": "53c3feaea053ee46"
  },
  {
   "cell_type": "code",
   "execution_count": 11,
   "outputs": [
    {
     "data": {
      "text/plain": "<Figure size 640x480 with 1 Axes>",
      "image/png": "[encoded data removed]"
     },
     "metadata": {},
     "output_type": "display_data"
    },
    {
     "data": {
      "text/plain": "                                                   Query  Label  lunghezza  \\\n26851                  fairly ( s from volume right join      0         33   \n1866                1' in boolean mode  )   order by 1--      1         36   \n4949   1\" and 3824  =  benchmark  (  5000000,md5  (  ...      1         65   \n26246  * from tone where several between '1996-07-01'...      0         63   \n8451   1\" where 4445  =  4445 procedure analyse  (  e...      1        166   \n...                                                  ...    ...        ...   \n19976  left ( customername, 5 )  as extractstring fro...      0         58   \n29587  * from her where yes between deep09/01/1996sle...      0         76   \n5390   1'  )   and 4380  =  5851 and   (  'cxcl'  =  ...      1         51   \n860    * from users where id  =  1 or 1#\"{ union sele...      1         75   \n23807  instrument from way union select vast from spo...      0         64   \n\n       Select_Count  \n26851             0  \n1866              0  \n4949              0  \n26246             0  \n8451              0  \n...             ...  \n19976             0  \n29587             0  \n5390              0  \n860               1  \n23807             1  \n\n[18325 rows x 4 columns]",
      "text/html": "<div>\n<style scoped>\n    .dataframe tbody tr th:only-of-type {\n        vertical-align: middle;\n    }\n\n    .dataframe tbody tr th {\n        vertical-align: top;\n    }\n\n    .dataframe thead th {\n        text-align: right;\n    }\n</style>\n<table border=\"1\" class=\"dataframe\">\n  <thead>\n    <tr style=\"text-align: right;\">\n      <th></th>\n      <th>Query</th>\n      <th>Label</th>\n      <th>lunghezza</th>\n      <th>Select_Count</th>\n    </tr>\n  </thead>\n  <tbody>\n    <tr>\n      <th>26851</th>\n      <td>fairly ( s from volume right join</td>\n      <td>0</td>\n      <td>33</td>\n      <td>0</td>\n    </tr>\n    <tr>\n      <th>1866</th>\n      <td>1' in boolean mode  )   order by 1--</td>\n      <td>1</td>\n      <td>36</td>\n      <td>0</td>\n    </tr>\n    <tr>\n      <th>4949</th>\n      <td>1\" and 3824  =  benchmark  (  5000000,md5  (  ...</td>\n      <td>1</td>\n      <td>65</td>\n      <td>0</td>\n    </tr>\n    <tr>\n      <th>26246</th>\n      <td>* from tone where several between '1996-07-01'...</td>\n      <td>0</td>\n      <td>63</td>\n      <td>0</td>\n    </tr>\n    <tr>\n      <th>8451</th>\n      <td>1\" where 4445  =  4445 procedure analyse  (  e...</td>\n      <td>1</td>\n      <td>166</td>\n      <td>0</td>\n    </tr>\n    <tr>\n      <th>...</th>\n      <td>...</td>\n      <td>...</td>\n      <td>...</td>\n      <td>...</td>\n    </tr>\n    <tr>\n      <th>19976</th>\n      <td>left ( customername, 5 )  as extractstring fro...</td>\n      <td>0</td>\n      <td>58</td>\n      <td>0</td>\n    </tr>\n    <tr>\n      <th>29587</th>\n      <td>* from her where yes between deep09/01/1996sle...</td>\n      <td>0</td>\n      <td>76</td>\n      <td>0</td>\n    </tr>\n    <tr>\n      <th>5390</th>\n      <td>1'  )   and 4380  =  5851 and   (  'cxcl'  =  ...</td>\n      <td>1</td>\n      <td>51</td>\n      <td>0</td>\n    </tr>\n    <tr>\n      <th>860</th>\n      <td>* from users where id  =  1 or 1#\"{ union sele...</td>\n      <td>1</td>\n      <td>75</td>\n      <td>1</td>\n    </tr>\n    <tr>\n      <th>23807</th>\n      <td>instrument from way union select vast from spo...</td>\n      <td>0</td>\n      <td>64</td>\n      <td>1</td>\n    </tr>\n  </tbody>\n</table>\n<p>18325 rows × 4 columns</p>\n</div>"
     },
     "execution_count": 11,
     "metadata": {},
     "output_type": "execute_result"
    }
   ],
   "source": [
    "\n",
    "# Crea due sottoinsiemi del DataFrame in base al valore di 'target'\n",
    "df_target_1 = df[df['Label'] == 1]\n",
    "df_target_0 = df[df['Label'] == 0]\n",
    "\n",
    "# Crea l'istogramma\n",
    "plt.hist([df_target_1['lunghezza'], df_target_0['lunghezza']], color=['r','b'], alpha=0.5)\n",
    "\n",
    "\n",
    "plt.xlabel('Lunghezza')\n",
    "plt.ylabel('Frequenza')\n",
    "plt.legend(['Malevoli', 'Normali'])\n",
    "\n",
    "plt.show()\n"
   ],
   "metadata": {
    "collapsed": false,
    "ExecuteTime": {
     "end_time": "2023-12-12T16:55:40.699922Z",
     "start_time": "2023-12-12T16:55:40.443746Z"
    }
   },
   "id": "4a6c8a070f336ba7"
  },
  {
   "cell_type": "markdown",
   "source": [
    "Visualizzo la distribuzione di query in base al numero di select"
   ],
   "metadata": {
    "collapsed": false,
    "ExecuteTime": {
     "end_time": "2023-12-04T22:30:28.296566Z",
     "start_time": "2023-12-04T22:30:26.312661Z"
    }
   },
   "id": "cd9304b2a394ce59"
  },
  {
   "cell_type": "code",
   "execution_count": 12,
   "outputs": [
    {
     "data": {
      "text/plain": "<Figure size 640x480 with 1 Axes>",
      "image/png": "[encoded data removed]"
     },
     "metadata": {},
     "output_type": "display_data"
    }
   ],
   "source": [
    "\n",
    "df_target_1 = df[df['Label'] == 1]\n",
    "df_target_0 = df[df['Label'] == 0]\n",
    "\n",
    "plt.hist([df_target_1['Select_Count'], df_target_0['Select_Count']], color=['r','b'], alpha=0.5)\n",
    "\n",
    "plt.xlabel('Numero Select')\n",
    "plt.ylabel('Frequenza')\n",
    "plt.legend(['Malevoli', 'Normali'])\n",
    "\n",
    "plt.show()\n"
   ],
   "metadata": {
    "collapsed": false,
    "ExecuteTime": {
     "end_time": "2023-12-12T16:55:40.807955Z",
     "start_time": "2023-12-12T16:55:40.611267Z"
    }
   },
   "id": "78b23cb50e05f00a"
  },
  {
   "cell_type": "code",
   "execution_count": 13,
   "outputs": [
    {
     "data": {
      "text/plain": "<seaborn.axisgrid.PairGrid at 0x157b9db40>"
     },
     "execution_count": 13,
     "metadata": {},
     "output_type": "execute_result"
    },
    {
     "data": {
      "text/plain": "<Figure size 557.75x500 with 6 Axes>",
      "image/png": "[encoded data removed]"
     },
     "metadata": {},
     "output_type": "display_data"
    }
   ],
   "source": [
    "sns.pairplot(df, hue='Label')"
   ],
   "metadata": {
    "collapsed": false,
    "ExecuteTime": {
     "end_time": "2023-12-12T16:55:43.055476Z",
     "start_time": "2023-12-12T16:55:40.742782Z"
    }
   },
   "id": "5e14fc91240f5b2e"
  },
  {
   "cell_type": "markdown",
   "source": [
    "Normalizzo i valori numerici"
   ],
   "metadata": {
    "collapsed": false
   },
   "id": "3a6dd4b23dad964f"
  },
  {
   "cell_type": "code",
   "execution_count": 14,
   "outputs": [
    {
     "data": {
      "text/plain": "                                                   Query  Label  lunghezza  \\\n26851                  fairly ( s from volume right join      0   0.059783   \n1866                1' in boolean mode  )   order by 1--      1   0.065217   \n4949   1\" and 3824  =  benchmark  (  5000000,md5  (  ...      1   0.117754   \n26246  * from tone where several between '1996-07-01'...      0   0.114130   \n8451   1\" where 4445  =  4445 procedure analyse  (  e...      1   0.300725   \n...                                                  ...    ...        ...   \n19976  left ( customername, 5 )  as extractstring fro...      0   0.105072   \n29587  * from her where yes between deep09/01/1996sle...      0   0.137681   \n5390   1'  )   and 4380  =  5851 and   (  'cxcl'  =  ...      1   0.092391   \n860    * from users where id  =  1 or 1#\"{ union sele...      1   0.135870   \n23807  instrument from way union select vast from spo...      0   0.115942   \n\n       Select_Count  \n26851      0.000000  \n1866       0.000000  \n4949       0.000000  \n26246      0.000000  \n8451       0.000000  \n...             ...  \n19976      0.000000  \n29587      0.000000  \n5390       0.000000  \n860        0.142857  \n23807      0.142857  \n\n[18325 rows x 4 columns]",
      "text/html": "<div>\n<style scoped>\n    .dataframe tbody tr th:only-of-type {\n        vertical-align: middle;\n    }\n\n    .dataframe tbody tr th {\n        vertical-align: top;\n    }\n\n    .dataframe thead th {\n        text-align: right;\n    }\n</style>\n<table border=\"1\" class=\"dataframe\">\n  <thead>\n    <tr style=\"text-align: right;\">\n      <th></th>\n      <th>Query</th>\n      <th>Label</th>\n      <th>lunghezza</th>\n      <th>Select_Count</th>\n    </tr>\n  </thead>\n  <tbody>\n    <tr>\n      <th>26851</th>\n      <td>fairly ( s from volume right join</td>\n      <td>0</td>\n      <td>0.059783</td>\n      <td>0.000000</td>\n    </tr>\n    <tr>\n      <th>1866</th>\n      <td>1' in boolean mode  )   order by 1--</td>\n      <td>1</td>\n      <td>0.065217</td>\n      <td>0.000000</td>\n    </tr>\n    <tr>\n      <th>4949</th>\n      <td>1\" and 3824  =  benchmark  (  5000000,md5  (  ...</td>\n      <td>1</td>\n      <td>0.117754</td>\n      <td>0.000000</td>\n    </tr>\n    <tr>\n      <th>26246</th>\n      <td>* from tone where several between '1996-07-01'...</td>\n      <td>0</td>\n      <td>0.114130</td>\n      <td>0.000000</td>\n    </tr>\n    <tr>\n      <th>8451</th>\n      <td>1\" where 4445  =  4445 procedure analyse  (  e...</td>\n      <td>1</td>\n      <td>0.300725</td>\n      <td>0.000000</td>\n    </tr>\n    <tr>\n      <th>...</th>\n      <td>...</td>\n      <td>...</td>\n      <td>...</td>\n      <td>...</td>\n    </tr>\n    <tr>\n      <th>19976</th>\n      <td>left ( customername, 5 )  as extractstring fro...</td>\n      <td>0</td>\n      <td>0.105072</td>\n      <td>0.000000</td>\n    </tr>\n    <tr>\n      <th>29587</th>\n      <td>* from her where yes between deep09/01/1996sle...</td>\n      <td>0</td>\n      <td>0.137681</td>\n      <td>0.000000</td>\n    </tr>\n    <tr>\n      <th>5390</th>\n      <td>1'  )   and 4380  =  5851 and   (  'cxcl'  =  ...</td>\n      <td>1</td>\n      <td>0.092391</td>\n      <td>0.000000</td>\n    </tr>\n    <tr>\n      <th>860</th>\n      <td>* from users where id  =  1 or 1#\"{ union sele...</td>\n      <td>1</td>\n      <td>0.135870</td>\n      <td>0.142857</td>\n    </tr>\n    <tr>\n      <th>23807</th>\n      <td>instrument from way union select vast from spo...</td>\n      <td>0</td>\n      <td>0.115942</td>\n      <td>0.142857</td>\n    </tr>\n  </tbody>\n</table>\n<p>18325 rows × 4 columns</p>\n</div>"
     },
     "execution_count": 14,
     "metadata": {},
     "output_type": "execute_result"
    }
   ],
   "source": [
    "scaler = MinMaxScaler()\n",
    "df[['lunghezza', 'Select_Count']] = scaler.fit_transform(df[['lunghezza', 'Select_Count']])\n",
    "df"
   ],
   "metadata": {
    "collapsed": false,
    "ExecuteTime": {
     "end_time": "2023-12-12T16:55:43.068811Z",
     "start_time": "2023-12-12T16:55:43.057114Z"
    }
   },
   "id": "518e76c26570279c"
  },
  {
   "cell_type": "markdown",
   "source": [
    "Essendo il train set già bilanciato non devo effettuare operazioni di bilanciamento quindi procedo a dividerlo tra feature e label per l'addestramento\n",
    "# Addestramento\n",
    "## Naive bayes"
   ],
   "metadata": {
    "collapsed": false,
    "ExecuteTime": {
     "end_time": "2023-12-04T22:30:55.345754Z",
     "start_time": "2023-12-04T22:30:54.544498Z"
    }
   },
   "id": "40fe0d132f49a84f"
  },
  {
   "cell_type": "code",
   "execution_count": 15,
   "outputs": [
    {
     "data": {
      "text/plain": "MultinomialNB()",
      "text/html": "<style>#sk-container-id-1 {color: black;}#sk-container-id-1 pre{padding: 0;}#sk-container-id-1 div.sk-toggleable {background-color: white;}#sk-container-id-1 label.sk-toggleable__label {cursor: pointer;display: block;width: 100%;margin-bottom: 0;padding: 0.3em;box-sizing: border-box;text-align: center;}#sk-container-id-1 label.sk-toggleable__label-arrow:before {content: \"▸\";float: left;margin-right: 0.25em;color: #696969;}#sk-container-id-1 label.sk-toggleable__label-arrow:hover:before {color: black;}#sk-container-id-1 div.sk-estimator:hover label.sk-toggleable__label-arrow:before {color: black;}#sk-container-id-1 div.sk-toggleable__content {max-height: 0;max-width: 0;overflow: hidden;text-align: left;background-color: #f0f8ff;}#sk-container-id-1 div.sk-toggleable__content pre {margin: 0.2em;color: black;border-radius: 0.25em;background-color: #f0f8ff;}#sk-container-id-1 input.sk-toggleable__control:checked~div.sk-toggleable__content {max-height: 200px;max-width: 100%;overflow: auto;}#sk-container-id-1 input.sk-toggleable__control:checked~label.sk-toggleable__label-arrow:before {content: \"▾\";}#sk-container-id-1 div.sk-estimator input.sk-toggleable__control:checked~label.sk-toggleable__label {background-color: #d4ebff;}#sk-container-id-1 div.sk-label input.sk-toggleable__control:checked~label.sk-toggleable__label {background-color: #d4ebff;}#sk-container-id-1 input.sk-hidden--visually {border: 0;clip: rect(1px 1px 1px 1px);clip: rect(1px, 1px, 1px, 1px);height: 1px;margin: -1px;overflow: hidden;padding: 0;position: absolute;width: 1px;}#sk-container-id-1 div.sk-estimator {font-family: monospace;background-color: #f0f8ff;border: 1px dotted black;border-radius: 0.25em;box-sizing: border-box;margin-bottom: 0.5em;}#sk-container-id-1 div.sk-estimator:hover {background-color: #d4ebff;}#sk-container-id-1 div.sk-parallel-item::after {content: \"\";width: 100%;border-bottom: 1px solid gray;flex-grow: 1;}#sk-container-id-1 div.sk-label:hover label.sk-toggleable__label {background-color: #d4ebff;}#sk-container-id-1 div.sk-serial::before {content: \"\";position: absolute;border-left: 1px solid gray;box-sizing: border-box;top: 0;bottom: 0;left: 50%;z-index: 0;}#sk-container-id-1 div.sk-serial {display: flex;flex-direction: column;align-items: center;background-color: white;padding-right: 0.2em;padding-left: 0.2em;position: relative;}#sk-container-id-1 div.sk-item {position: relative;z-index: 1;}#sk-container-id-1 div.sk-parallel {display: flex;align-items: stretch;justify-content: center;background-color: white;position: relative;}#sk-container-id-1 div.sk-item::before, #sk-container-id-1 div.sk-parallel-item::before {content: \"\";position: absolute;border-left: 1px solid gray;box-sizing: border-box;top: 0;bottom: 0;left: 50%;z-index: -1;}#sk-container-id-1 div.sk-parallel-item {display: flex;flex-direction: column;z-index: 1;position: relative;background-color: white;}#sk-container-id-1 div.sk-parallel-item:first-child::after {align-self: flex-end;width: 50%;}#sk-container-id-1 div.sk-parallel-item:last-child::after {align-self: flex-start;width: 50%;}#sk-container-id-1 div.sk-parallel-item:only-child::after {width: 0;}#sk-container-id-1 div.sk-dashed-wrapped {border: 1px dashed gray;margin: 0 0.4em 0.5em 0.4em;box-sizing: border-box;padding-bottom: 0.4em;background-color: white;}#sk-container-id-1 div.sk-label label {font-family: monospace;font-weight: bold;display: inline-block;line-height: 1.2em;}#sk-container-id-1 div.sk-label-container {text-align: center;}#sk-container-id-1 div.sk-container {/* jupyter's `normalize.less` sets `[hidden] { display: none; }` but bootstrap.min.css set `[hidden] { display: none !important; }` so we also need the `!important` here to be able to override the default hidden behavior on the sphinx rendered scikit-learn.org. See: https://github.com/scikit-learn/scikit-learn/issues/21755 */display: inline-block !important;position: relative;}#sk-container-id-1 div.sk-text-repr-fallback {display: none;}</style><div id=\"sk-container-id-1\" class=\"sk-top-container\"><div class=\"sk-text-repr-fallback\"><pre>MultinomialNB()</pre><b>In a Jupyter environment, please rerun this cell to show the HTML representation or trust the notebook. <br />On GitHub, the HTML representation is unable to render, please try loading this page with nbviewer.org.</b></div><div class=\"sk-container\" hidden><div class=\"sk-item\"><div class=\"sk-estimator sk-toggleable\"><input class=\"sk-toggleable__control sk-hidden--visually\" id=\"sk-estimator-id-1\" type=\"checkbox\" checked><label for=\"sk-estimator-id-1\" class=\"sk-toggleable__label sk-toggleable__label-arrow\">MultinomialNB</label><div class=\"sk-toggleable__content\"><pre>MultinomialNB()</pre></div></div></div></div></div>"
     },
     "execution_count": 15,
     "metadata": {},
     "output_type": "execute_result"
    }
   ],
   "source": [
    "from sklearn.model_selection import train_test_split\n",
    "from sklearn.naive_bayes import GaussianNB, BernoulliNB, MultinomialNB\n",
    "from scipy.sparse import hstack\n",
    "import pickle\n",
    "X = df[['Query', 'lunghezza', 'Select_Count']]  # caratteristiche\n",
    "y = df['Label']  # target\n",
    "\n",
    "\n",
    "X_train, X_test, y_train, y_test = train_test_split(X, y, test_size=0.2, random_state=42)\n",
    "vectorizer = CountVectorizer()\n",
    "vectorizer.fit(X_train['Query'])\n",
    "\n",
    "X_train_vec = vectorizer.transform(X_train['Query'])\n",
    "X_test_vec = vectorizer.transform(X_test['Query'])\n",
    "X_train_vec = hstack([X_train_vec, X_train[['lunghezza', 'Select_Count']].values])\n",
    "X_test_vec = hstack([X_test_vec, X_test[['lunghezza', 'Select_Count']].values])\n",
    "\n",
    "with open('models/count_vectorizer.sav', 'wb') as file:\n",
    "    pickle.dump(vectorizer, file)\n",
    "\n",
    "gnb = GaussianNB()\n",
    "bnb = BernoulliNB()\n",
    "mnb = MultinomialNB()\n",
    " \n",
    "gnb.fit(X_train_vec.toarray(), y_train)\n",
    "bnb.fit(X_train_vec.toarray(), y_train)\n",
    "mnb.fit(X_train_vec.toarray(), y_train)\n"
   ],
   "metadata": {
    "collapsed": false,
    "ExecuteTime": {
     "end_time": "2023-12-12T16:56:59.540737Z",
     "start_time": "2023-12-12T16:56:54.675418Z"
    }
   },
   "id": "94363a1b8e6d6aae"
  },
  {
   "cell_type": "code",
   "execution_count": 17,
   "outputs": [
    {
     "name": "stdout",
     "output_type": "stream",
     "text": [
      "Accuratezza GaussianNB: 0.8905866302864939\n",
      "Accuratezza BernoulliNB: 0.9664392905866303\n",
      "Accuratezza MultinomialNB: 0.9770804911323329\n",
      "F1 Score GaussianNB: 0.8891424649473036\n",
      "F1 Score BernoulliNB: 0.9663936047916323\n",
      "F1 Score MultinomialNB: 0.977066209410842\n",
      "Precision GaussianNB: 0.9098552914583584\n",
      "Precision BernoulliNB: 0.9683283944231942\n",
      "Precision MultinomialNB: 0.9778506249323123\n",
      "Recall GaussianNB: 0.8905866302864939\n",
      "Recall BernoulliNB: 0.9664392905866303\n",
      "Recall MultinomialNB: 0.9770804911323329\n"
     ]
    }
   ],
   "source": [
    "from sklearn.metrics import accuracy_score\n",
    "from sklearn.metrics import f1_score, precision_score, recall_score\n",
    "\n",
    "\n",
    "\n",
    "\n",
    "y_pred_gnb = gnb.predict(X_test_vec.toarray())\n",
    "y_pred_bnb = bnb.predict(X_test_vec.toarray())\n",
    "y_pred_mnb = mnb.predict(X_test_vec.toarray())\n",
    "\n",
    "\n",
    "accuracy_gnb = accuracy_score(y_test, y_pred_gnb)\n",
    "accuracy_bnb = accuracy_score(y_test, y_pred_bnb)\n",
    "accuracy_mnb = accuracy_score(y_test, y_pred_mnb)\n",
    "\n",
    "\n",
    "\n",
    "\n",
    "\n",
    "f1_gnb = f1_score(y_test, y_pred_gnb, average='weighted')\n",
    "f1_bnb = f1_score(y_test, y_pred_bnb, average='weighted')\n",
    "f1_mnb = f1_score(y_test, y_pred_mnb, average='weighted')\n",
    "precision_gnb = precision_score(y_test, y_pred_gnb, average='weighted')\n",
    "precision_bnb = precision_score(y_test, y_pred_bnb, average='weighted')\n",
    "precision_mnb = precision_score(y_test, y_pred_mnb, average='weighted')\n",
    "recall_gnb = recall_score(y_test, y_pred_gnb, average='weighted')\n",
    "recall_bnb = recall_score(y_test, y_pred_bnb, average='weighted')\n",
    "recall_mnb = recall_score(y_test, y_pred_mnb, average='weighted')\n",
    "print(f\"Accuratezza GaussianNB: {accuracy_gnb}\")\n",
    "print(f\"Accuratezza BernoulliNB: {accuracy_bnb}\")\n",
    "print(f\"Accuratezza MultinomialNB: {accuracy_mnb}\")\n",
    "print(f\"F1 Score GaussianNB: {f1_gnb}\")\n",
    "print(f\"F1 Score BernoulliNB: {f1_bnb}\")\n",
    "print(f\"F1 Score MultinomialNB: {f1_mnb}\")\n",
    "print(f\"Precision GaussianNB: {precision_gnb}\")\n",
    "print(f\"Precision BernoulliNB: {precision_bnb}\")\n",
    "print(f\"Precision MultinomialNB: {precision_mnb}\")\n",
    "print(f\"Recall GaussianNB: {recall_gnb}\")\n",
    "print(f\"Recall BernoulliNB: {recall_bnb}\")\n",
    "print(f\"Recall MultinomialNB: {recall_mnb}\")\n"
   ],
   "metadata": {
    "collapsed": false,
    "ExecuteTime": {
     "end_time": "2023-12-10T13:50:15.187734Z",
     "start_time": "2023-12-10T13:50:14.622777Z"
    }
   },
   "id": "4263a3b273ad1a15"
  },
  {
   "cell_type": "markdown",
   "source": [
    "## Vector machines"
   ],
   "metadata": {
    "collapsed": false
   },
   "id": "392602fb11aa7b77"
  },
  {
   "cell_type": "code",
   "execution_count": null,
   "outputs": [],
   "source": [
    "\n",
    "\n",
    "svc = SVC(probability=True)\n",
    "linear_svc = LinearSVC()\n",
    "linear_svc = CalibratedClassifierCV(linear_svc) \n",
    "\n",
    "svc.fit(X_train_vec.toarray(), y_train)\n",
    "linear_svc.fit(X_train_vec.toarray(), y_train)\n",
    "\n",
    "\n",
    "\n",
    "y_pred_svc = svc.predict(X_test_vec.toarray())\n",
    "y_pred_linear_svc = linear_svc.predict(X_test_vec.toarray())\n"
   ],
   "metadata": {
    "collapsed": false
   },
   "id": "753c210a5153ae92"
  },
  {
   "cell_type": "code",
   "execution_count": 83,
   "outputs": [
    {
     "name": "stdout",
     "output_type": "stream",
     "text": [
      "Accuratezza SVC: 0.990450204638472\n",
      "Accuratezza Linear: 0.9923601637107776\n",
      "F1 Score SVC: 0.9904503041732061\n",
      "F1 Score Linear: 0.9923603559571965\n",
      "Precision SVC: 0.9906310719748647\n",
      "Precision Linear: 0.9924604339501713\n",
      "Recall SVC: 0.990450204638472\n",
      "Recall Linear: 0.9923601637107776\n"
     ]
    }
   ],
   "source": [
    "\n",
    "\n",
    "accuracy_svc = accuracy_score(y_test, y_pred_svc)\n",
    "accuracy_linear = accuracy_score(y_test, y_pred_linear_svc)\n",
    "f1_svc = f1_score(y_test, y_pred_svc, average='weighted')\n",
    "f1_linear = f1_score(y_test, y_pred_linear_svc, average='weighted')\n",
    "precision_svc = precision_score(y_test, y_pred_svc, average='weighted')\n",
    "precision_linear = precision_score(y_test, y_pred_linear_svc, average='weighted')\n",
    "recall_svc = recall_score(y_test, y_pred_svc, average='weighted')\n",
    "recall_linear = recall_score(y_test, y_pred_linear_svc, average='weighted')\n",
    "print(f\"Accuratezza SVC: {accuracy_svc}\")\n",
    "print(f\"Accuratezza Linear: {accuracy_linear}\")\n",
    "\n",
    "print(f\"F1 Score SVC: {f1_svc}\")\n",
    "print(f\"F1 Score Linear: {f1_linear}\")\n",
    "\n",
    "print(f\"Precision SVC: {precision_svc}\")\n",
    "print(f\"Precision Linear: {precision_linear}\")\n",
    "\n",
    "print(f\"Recall SVC: {recall_svc}\")\n",
    "print(f\"Recall Linear: {recall_linear}\")\n"
   ],
   "metadata": {
    "collapsed": false,
    "ExecuteTime": {
     "end_time": "2023-12-05T00:58:11.113046Z",
     "start_time": "2023-12-05T00:58:11.093661Z"
    }
   },
   "id": "3dfe41e3cf841eb7"
  },
  {
   "cell_type": "code",
   "execution_count": 39,
   "outputs": [
    {
     "name": "stderr",
     "output_type": "stream",
     "text": [
      "/Users/davideamoruso/SQLInjection_Detector/lib/python3.10/site-packages/sklearn/base.py:465: UserWarning: X does not have valid feature names, but SVC was fitted with feature names\n",
      "  warnings.warn(\n"
     ]
    },
    {
     "data": {
      "text/plain": "<Figure size 640x480 with 1 Axes>",
      "image/png": "[encoded data removed]"
     },
     "metadata": {},
     "output_type": "display_data"
    }
   ],
   "source": [
    "\n",
    "X_train_reduced = X_train[['lunghezza', 'Select_Count']]\n",
    "X_test_reduced = X_test[['lunghezza', 'Select_Count']]\n",
    "import matplotlib.pyplot as plt\n",
    "import numpy as np\n",
    "from sklearn.svm import SVC\n",
    "\n",
    "\n",
    "svc = SVC()\n",
    "svc.fit(X_train_reduced, y_train)\n",
    "\n",
    "\n",
    "x_min, x_max = X_train_reduced['lunghezza'].min() - 1, X_train_reduced['lunghezza'].max() + 1\n",
    "y_min, y_max = X_train_reduced['Select_Count'].min() - 1, X_train_reduced['Select_Count'].max() + 1\n",
    "xx, yy = np.meshgrid(np.arange(x_min, x_max, 0.02),\n",
    "                     np.arange(y_min, y_max, 0.02))\n",
    "\n",
    "\n",
    "Z = svc.predict(np.c_[xx.ravel(), yy.ravel()])\n",
    "Z = Z.reshape(xx.shape)\n",
    "\n",
    "# Disegna la mappa di decisione\n",
    "plt.contourf(xx, yy, Z, cmap=plt.cm.coolwarm, alpha=0.8)\n",
    "\n",
    "# Disegna anche i punti di addestramento\n",
    "plt.scatter(X_train_reduced['lunghezza'], X_train_reduced['Select_Count'], c=y_train, cmap=plt.cm.coolwarm)\n",
    "plt.xlim(xx.min(), xx.max())\n",
    "plt.ylim(yy.min(), yy.max())\n",
    "plt.xticks(())\n",
    "plt.yticks(())\n",
    "plt.show()\n"
   ],
   "metadata": {
    "collapsed": false,
    "ExecuteTime": {
     "end_time": "2023-12-07T18:28:17.454401Z",
     "start_time": "2023-12-07T18:28:09.834542Z"
    }
   },
   "id": "b88329d3710b2cf3"
  },
  {
   "cell_type": "code",
   "execution_count": 40,
   "outputs": [
    {
     "name": "stderr",
     "output_type": "stream",
     "text": [
      "/Users/davideamoruso/SQLInjection_Detector/lib/python3.10/site-packages/sklearn/svm/_classes.py:32: FutureWarning: The default value of `dual` will change from `True` to `'auto'` in 1.5. Set the value of `dual` explicitly to suppress the warning.\n",
      "  warnings.warn(\n",
      "/Users/davideamoruso/SQLInjection_Detector/lib/python3.10/site-packages/sklearn/base.py:465: UserWarning: X does not have valid feature names, but LinearSVC was fitted with feature names\n",
      "  warnings.warn(\n"
     ]
    },
    {
     "data": {
      "text/plain": "<Figure size 640x480 with 1 Axes>",
      "image/png": "[encoded data removed]"
     },
     "metadata": {},
     "output_type": "display_data"
    }
   ],
   "source": [
    "\n",
    "\n",
    "linear_svc = LinearSVC()\n",
    "linear_svc.fit(X_train_reduced, y_train)\n",
    "\n",
    "\n",
    "x_min, x_max = X_train_reduced['lunghezza'].min() - 1, X_train_reduced['lunghezza'].max() + 1\n",
    "y_min, y_max = X_train_reduced['Select_Count'].min() - 1, X_train_reduced['Select_Count'].max() + 1\n",
    "xx, yy = np.meshgrid(np.arange(x_min, x_max, 0.02),\n",
    "                     np.arange(y_min, y_max, 0.02))\n",
    "\n",
    "\n",
    "Z = linear_svc.predict(np.c_[xx.ravel(), yy.ravel()])\n",
    "Z = Z.reshape(xx.shape)\n",
    "\n",
    "\n",
    "plt.contourf(xx, yy, Z, cmap=plt.cm.coolwarm, alpha=0.8)\n",
    "\n",
    "\n",
    "plt.scatter(X_train_reduced['lunghezza'], X_train_reduced['Select_Count'], c=y_train, cmap=plt.cm.coolwarm)\n",
    "plt.xlim(xx.min(), xx.max())\n",
    "plt.ylim(yy.min(), yy.max())\n",
    "plt.xticks(())\n",
    "plt.yticks(())\n",
    "plt.show()"
   ],
   "metadata": {
    "collapsed": false,
    "ExecuteTime": {
     "end_time": "2023-12-07T18:28:21.805498Z",
     "start_time": "2023-12-07T18:28:21.490620Z"
    }
   },
   "id": "ae42e7009d0eec23"
  },
  {
   "cell_type": "markdown",
   "source": [
    "## Nearest NeighBours"
   ],
   "metadata": {
    "collapsed": false
   },
   "id": "348abe2cb38744b5"
  },
  {
   "cell_type": "code",
   "execution_count": 92,
   "outputs": [
    {
     "ename": "InvalidParameterError",
     "evalue": "The 'estimator' parameter of CalibratedClassifierCV must be an object implementing 'fit' and 'predict_proba', an object implementing 'fit' and 'decision_function' or None. Got NearestCentroid() instead.",
     "output_type": "error",
     "traceback": [
      "\u001B[0;31m---------------------------------------------------------------------------\u001B[0m",
      "\u001B[0;31mInvalidParameterError\u001B[0m                     Traceback (most recent call last)",
      "Cell \u001B[0;32mIn[92], line 12\u001B[0m\n\u001B[1;32m     10\u001B[0m knc\u001B[38;5;241m.\u001B[39mfit(X_train_vec\u001B[38;5;241m.\u001B[39mtoarray(), y_train)\n\u001B[1;32m     11\u001B[0m rnc\u001B[38;5;241m.\u001B[39mfit(X_train_vec\u001B[38;5;241m.\u001B[39mtoarray(), y_train)\n\u001B[0;32m---> 12\u001B[0m \u001B[43mnc\u001B[49m\u001B[38;5;241;43m.\u001B[39;49m\u001B[43mfit\u001B[49m\u001B[43m(\u001B[49m\u001B[43mX_train_vec\u001B[49m\u001B[38;5;241;43m.\u001B[39;49m\u001B[43mtoarray\u001B[49m\u001B[43m(\u001B[49m\u001B[43m)\u001B[49m\u001B[43m,\u001B[49m\u001B[43m \u001B[49m\u001B[43my_train\u001B[49m\u001B[43m)\u001B[49m\n\u001B[1;32m     14\u001B[0m \u001B[38;5;66;03m# Prevedi le etichette per i dati di test\u001B[39;00m\n\u001B[1;32m     15\u001B[0m y_pred_knc \u001B[38;5;241m=\u001B[39m knc\u001B[38;5;241m.\u001B[39mpredict(X_test_vec\u001B[38;5;241m.\u001B[39mtoarray())\n",
      "File \u001B[0;32m~/SQLInjection_Detector/lib/python3.10/site-packages/sklearn/base.py:1145\u001B[0m, in \u001B[0;36m_fit_context.<locals>.decorator.<locals>.wrapper\u001B[0;34m(estimator, *args, **kwargs)\u001B[0m\n\u001B[1;32m   1140\u001B[0m partial_fit_and_fitted \u001B[38;5;241m=\u001B[39m (\n\u001B[1;32m   1141\u001B[0m     fit_method\u001B[38;5;241m.\u001B[39m\u001B[38;5;18m__name__\u001B[39m \u001B[38;5;241m==\u001B[39m \u001B[38;5;124m\"\u001B[39m\u001B[38;5;124mpartial_fit\u001B[39m\u001B[38;5;124m\"\u001B[39m \u001B[38;5;129;01mand\u001B[39;00m _is_fitted(estimator)\n\u001B[1;32m   1142\u001B[0m )\n\u001B[1;32m   1144\u001B[0m \u001B[38;5;28;01mif\u001B[39;00m \u001B[38;5;129;01mnot\u001B[39;00m global_skip_validation \u001B[38;5;129;01mand\u001B[39;00m \u001B[38;5;129;01mnot\u001B[39;00m partial_fit_and_fitted:\n\u001B[0;32m-> 1145\u001B[0m     \u001B[43mestimator\u001B[49m\u001B[38;5;241;43m.\u001B[39;49m\u001B[43m_validate_params\u001B[49m\u001B[43m(\u001B[49m\u001B[43m)\u001B[49m\n\u001B[1;32m   1147\u001B[0m \u001B[38;5;28;01mwith\u001B[39;00m config_context(\n\u001B[1;32m   1148\u001B[0m     skip_parameter_validation\u001B[38;5;241m=\u001B[39m(\n\u001B[1;32m   1149\u001B[0m         prefer_skip_nested_validation \u001B[38;5;129;01mor\u001B[39;00m global_skip_validation\n\u001B[1;32m   1150\u001B[0m     )\n\u001B[1;32m   1151\u001B[0m ):\n\u001B[1;32m   1152\u001B[0m     \u001B[38;5;28;01mreturn\u001B[39;00m fit_method(estimator, \u001B[38;5;241m*\u001B[39margs, \u001B[38;5;241m*\u001B[39m\u001B[38;5;241m*\u001B[39mkwargs)\n",
      "File \u001B[0;32m~/SQLInjection_Detector/lib/python3.10/site-packages/sklearn/base.py:638\u001B[0m, in \u001B[0;36mBaseEstimator._validate_params\u001B[0;34m(self)\u001B[0m\n\u001B[1;32m    630\u001B[0m \u001B[38;5;28;01mdef\u001B[39;00m \u001B[38;5;21m_validate_params\u001B[39m(\u001B[38;5;28mself\u001B[39m):\n\u001B[1;32m    631\u001B[0m \u001B[38;5;250m    \u001B[39m\u001B[38;5;124;03m\"\"\"Validate types and values of constructor parameters\u001B[39;00m\n\u001B[1;32m    632\u001B[0m \n\u001B[1;32m    633\u001B[0m \u001B[38;5;124;03m    The expected type and values must be defined in the `_parameter_constraints`\u001B[39;00m\n\u001B[0;32m   (...)\u001B[0m\n\u001B[1;32m    636\u001B[0m \u001B[38;5;124;03m    accepted constraints.\u001B[39;00m\n\u001B[1;32m    637\u001B[0m \u001B[38;5;124;03m    \"\"\"\u001B[39;00m\n\u001B[0;32m--> 638\u001B[0m     \u001B[43mvalidate_parameter_constraints\u001B[49m\u001B[43m(\u001B[49m\n\u001B[1;32m    639\u001B[0m \u001B[43m        \u001B[49m\u001B[38;5;28;43mself\u001B[39;49m\u001B[38;5;241;43m.\u001B[39;49m\u001B[43m_parameter_constraints\u001B[49m\u001B[43m,\u001B[49m\n\u001B[1;32m    640\u001B[0m \u001B[43m        \u001B[49m\u001B[38;5;28;43mself\u001B[39;49m\u001B[38;5;241;43m.\u001B[39;49m\u001B[43mget_params\u001B[49m\u001B[43m(\u001B[49m\u001B[43mdeep\u001B[49m\u001B[38;5;241;43m=\u001B[39;49m\u001B[38;5;28;43;01mFalse\u001B[39;49;00m\u001B[43m)\u001B[49m\u001B[43m,\u001B[49m\n\u001B[1;32m    641\u001B[0m \u001B[43m        \u001B[49m\u001B[43mcaller_name\u001B[49m\u001B[38;5;241;43m=\u001B[39;49m\u001B[38;5;28;43mself\u001B[39;49m\u001B[38;5;241;43m.\u001B[39;49m\u001B[38;5;18;43m__class__\u001B[39;49m\u001B[38;5;241;43m.\u001B[39;49m\u001B[38;5;18;43m__name__\u001B[39;49m\u001B[43m,\u001B[49m\n\u001B[1;32m    642\u001B[0m \u001B[43m    \u001B[49m\u001B[43m)\u001B[49m\n",
      "File \u001B[0;32m~/SQLInjection_Detector/lib/python3.10/site-packages/sklearn/utils/_param_validation.py:96\u001B[0m, in \u001B[0;36mvalidate_parameter_constraints\u001B[0;34m(parameter_constraints, params, caller_name)\u001B[0m\n\u001B[1;32m     90\u001B[0m \u001B[38;5;28;01melse\u001B[39;00m:\n\u001B[1;32m     91\u001B[0m     constraints_str \u001B[38;5;241m=\u001B[39m (\n\u001B[1;32m     92\u001B[0m         \u001B[38;5;124mf\u001B[39m\u001B[38;5;124m\"\u001B[39m\u001B[38;5;132;01m{\u001B[39;00m\u001B[38;5;124m'\u001B[39m\u001B[38;5;124m, \u001B[39m\u001B[38;5;124m'\u001B[39m\u001B[38;5;241m.\u001B[39mjoin([\u001B[38;5;28mstr\u001B[39m(c)\u001B[38;5;250m \u001B[39m\u001B[38;5;28;01mfor\u001B[39;00m\u001B[38;5;250m \u001B[39mc\u001B[38;5;250m \u001B[39m\u001B[38;5;129;01min\u001B[39;00m\u001B[38;5;250m \u001B[39mconstraints[:\u001B[38;5;241m-\u001B[39m\u001B[38;5;241m1\u001B[39m]])\u001B[38;5;132;01m}\u001B[39;00m\u001B[38;5;124m or\u001B[39m\u001B[38;5;124m\"\u001B[39m\n\u001B[1;32m     93\u001B[0m         \u001B[38;5;124mf\u001B[39m\u001B[38;5;124m\"\u001B[39m\u001B[38;5;124m \u001B[39m\u001B[38;5;132;01m{\u001B[39;00mconstraints[\u001B[38;5;241m-\u001B[39m\u001B[38;5;241m1\u001B[39m]\u001B[38;5;132;01m}\u001B[39;00m\u001B[38;5;124m\"\u001B[39m\n\u001B[1;32m     94\u001B[0m     )\n\u001B[0;32m---> 96\u001B[0m \u001B[38;5;28;01mraise\u001B[39;00m InvalidParameterError(\n\u001B[1;32m     97\u001B[0m     \u001B[38;5;124mf\u001B[39m\u001B[38;5;124m\"\u001B[39m\u001B[38;5;124mThe \u001B[39m\u001B[38;5;132;01m{\u001B[39;00mparam_name\u001B[38;5;132;01m!r}\u001B[39;00m\u001B[38;5;124m parameter of \u001B[39m\u001B[38;5;132;01m{\u001B[39;00mcaller_name\u001B[38;5;132;01m}\u001B[39;00m\u001B[38;5;124m must be\u001B[39m\u001B[38;5;124m\"\u001B[39m\n\u001B[1;32m     98\u001B[0m     \u001B[38;5;124mf\u001B[39m\u001B[38;5;124m\"\u001B[39m\u001B[38;5;124m \u001B[39m\u001B[38;5;132;01m{\u001B[39;00mconstraints_str\u001B[38;5;132;01m}\u001B[39;00m\u001B[38;5;124m. Got \u001B[39m\u001B[38;5;132;01m{\u001B[39;00mparam_val\u001B[38;5;132;01m!r}\u001B[39;00m\u001B[38;5;124m instead.\u001B[39m\u001B[38;5;124m\"\u001B[39m\n\u001B[1;32m     99\u001B[0m )\n",
      "\u001B[0;31mInvalidParameterError\u001B[0m: The 'estimator' parameter of CalibratedClassifierCV must be an object implementing 'fit' and 'predict_proba', an object implementing 'fit' and 'decision_function' or None. Got NearestCentroid() instead."
     ]
    }
   ],
   "source": [
    "\n",
    "\n",
    "\n",
    "knc = KNeighborsClassifier()\n",
    "rnc = RadiusNeighborsClassifier(radius=12.0)\n",
    "\n",
    " \n",
    "\n",
    "\n",
    "knc.fit(X_train_vec.toarray(), y_train)\n",
    "rnc.fit(X_train_vec.toarray(), y_train)\n",
    "\n",
    "\n",
    "\n",
    "y_pred_knc = knc.predict(X_test_vec.toarray())\n",
    "y_pred_rnc = rnc.predict(X_test_vec.toarray())\n",
    "\n",
    "\n",
    "\n",
    "accuracy_knc = accuracy_score(y_test, y_pred_knc)\n",
    "accuracy_rnc = accuracy_score(y_test, y_pred_rnc)\n",
    "\n",
    "\n",
    "\n"
   ],
   "metadata": {
    "collapsed": false,
    "ExecuteTime": {
     "end_time": "2023-12-05T01:44:26.838342Z",
     "start_time": "2023-12-05T01:44:26.065682Z"
    }
   },
   "id": "9b7e3a5f47af3626"
  },
  {
   "cell_type": "code",
   "execution_count": 41,
   "outputs": [
    {
     "name": "stdout",
     "output_type": "stream",
     "text": [
      "Accuratezza KNeighborsClassifier: 0.940518417462483\n",
      "Accuratezza RadiusNeighborsClassifier: 0.5421555252387449\n",
      "Accuratezza NearestCentroid: 0.834924965893588\n",
      "F1 Score KNeighborsClassifier: 0.9403657589941742\n",
      "F1 Score RadiusNeighborsClassifier: 0.41633613295014854\n",
      "F1 Score NearestCentroid: 0.830081623971186\n",
      "Precision KNeighborsClassifier: 0.9462154430705103\n",
      "Precision RadiusNeighborsClassifier: 0.7597937769807807\n",
      "Precision NearestCentroid: 0.8746637316166548\n",
      "Recall KNeighborsClassifier: 0.940518417462483\n",
      "Recall RadiusNeighborsClassifier: 0.5421555252387449\n",
      "Recall NearestCentroid: 0.834924965893588\n"
     ]
    }
   ],
   "source": [
    "f1_knc = f1_score(y_test, y_pred_knc, average='weighted')\n",
    "f1_rnc = f1_score(y_test, y_pred_rnc, average='weighted')\n",
    "\n",
    "\n",
    "precision_knc = precision_score(y_test, y_pred_knc, average='weighted')\n",
    "precision_rnc = precision_score(y_test, y_pred_rnc, average='weighted')\n",
    "\n",
    "\n",
    "recall_knc = recall_score(y_test, y_pred_knc, average='weighted')\n",
    "recall_rnc = recall_score(y_test, y_pred_rnc, average='weighted')\n",
    "\n",
    "\n",
    "print(f\"Accuratezza KNeighborsClassifier: {accuracy_knc}\")\n",
    "print(f\"Accuratezza RadiusNeighborsClassifier: {accuracy_rnc}\")\n",
    "\n",
    "print(f\"F1 Score KNeighborsClassifier: {f1_knc}\")\n",
    "print(f\"F1 Score RadiusNeighborsClassifier: {f1_rnc}\")\n",
    "print(f\"F1 Score NearestCentroid: {f1_nc}\")\n",
    "print(f\"Precision KNeighborsClassifier: {precision_knc}\")\n",
    "print(f\"Precision RadiusNeighborsClassifier: {precision_rnc}\")\n",
    "\n",
    "print(f\"Recall KNeighborsClassifier: {recall_knc}\")\n",
    "print(f\"Recall RadiusNeighborsClassifier: {recall_rnc}\")\n",
    "\n"
   ],
   "metadata": {
    "collapsed": false,
    "ExecuteTime": {
     "end_time": "2023-12-04T22:43:26.131236Z",
     "start_time": "2023-12-04T22:43:26.100256Z"
    }
   },
   "id": "810dab9a35c9137e"
  },
  {
   "cell_type": "markdown",
   "source": [
    "## Decision Tree\n"
   ],
   "metadata": {
    "collapsed": false
   },
   "id": "c58136ce6a2b0dc8"
  },
  {
   "cell_type": "code",
   "execution_count": 74,
   "outputs": [],
   "source": [
    "\n",
    "\n",
    "\n",
    "dtc = DecisionTreeClassifier()\n",
    "etc = ExtraTreeClassifier()\n",
    "\n",
    "\n",
    "dtc.fit(X_train_vec.toarray(), y_train)\n",
    "etc.fit(X_train_vec.toarray(), y_train)\n",
    "\n",
    "\n",
    "y_pred_dtc = dtc.predict(X_test_vec.toarray())\n",
    "y_pred_etc = etc.predict(X_test_vec.toarray())\n",
    "\n",
    "\n"
   ],
   "metadata": {
    "collapsed": false,
    "ExecuteTime": {
     "end_time": "2023-12-05T00:02:07.845928Z",
     "start_time": "2023-12-05T00:01:55.880970Z"
    }
   },
   "id": "da5dd59c1ee92972"
  },
  {
   "cell_type": "code",
   "execution_count": 43,
   "outputs": [
    {
     "name": "stdout",
     "output_type": "stream",
     "text": [
      "Accuratezza DecisionTreeClassifier: 0.9923601637107776\n",
      "Accuratezza ExtraTreeClassifier: 0.9888130968622101\n",
      "F1 Score DecisionTreeClassifier: 0.9923603730260981\n",
      "F1 Score ExtraTreeClassifier: 0.9888131584924373\n",
      "Precision DecisionTreeClassifier: 0.9923984085434339\n",
      "Precision ExtraTreeClassifier: 0.9890147963574729\n",
      "Recall DecisionTreeClassifier: 0.9923601637107776\n",
      "Recall ExtraTreeClassifier: 0.9888130968622101\n"
     ]
    }
   ],
   "source": [
    "\n",
    "\n",
    "accuracy_dtc = accuracy_score(y_test, y_pred_dtc)\n",
    "accuracy_etc = accuracy_score(y_test, y_pred_etc)\n",
    "\n",
    "f1_dtc = f1_score(y_test, y_pred_dtc, average='weighted')\n",
    "f1_etc = f1_score(y_test, y_pred_etc, average='weighted')\n",
    "\n",
    "precision_dtc = precision_score(y_test, y_pred_dtc, average='weighted')\n",
    "precision_etc = precision_score(y_test, y_pred_etc, average='weighted')\n",
    "\n",
    "recall_dtc = recall_score(y_test, y_pred_dtc, average='weighted')\n",
    "recall_etc = recall_score(y_test, y_pred_etc, average='weighted')\n",
    "\n",
    "print(f\"Accuratezza DecisionTreeClassifier: {accuracy_dtc}\")\n",
    "print(f\"Accuratezza ExtraTreeClassifier: {accuracy_etc}\")\n",
    "print(f\"F1 Score DecisionTreeClassifier: {f1_dtc}\")\n",
    "print(f\"F1 Score ExtraTreeClassifier: {f1_etc}\")\n",
    "print(f\"Precision DecisionTreeClassifier: {precision_dtc}\")\n",
    "print(f\"Precision ExtraTreeClassifier: {precision_etc}\")\n",
    "print(f\"Recall DecisionTreeClassifier: {recall_dtc}\")\n",
    "print(f\"Recall ExtraTreeClassifier: {recall_etc}\")\n"
   ],
   "metadata": {
    "collapsed": false,
    "ExecuteTime": {
     "end_time": "2023-12-04T22:43:59.667549Z",
     "start_time": "2023-12-04T22:43:59.646634Z"
    }
   },
   "id": "afde32c34ef51f1f"
  },
  {
   "cell_type": "markdown",
   "source": [
    "## Random Forest"
   ],
   "metadata": {
    "collapsed": false
   },
   "id": "ad294d43b3ffb442"
  },
  {
   "cell_type": "code",
   "execution_count": 61,
   "outputs": [],
   "source": [
    "\n",
    "\n",
    "\n",
    "rfc = RandomForestClassifier()\n",
    "etc = ExtraTreesClassifier()\n",
    "\n",
    "\n",
    "rfc.fit(X_train_vec.toarray(), y_train)\n",
    "etc.fit(X_train_vec.toarray(), y_train)\n",
    "\n",
    "\n",
    "y_pred_rfc = rfc.predict(X_test_vec.toarray())\n",
    "y_pred_etc = etc.predict(X_test_vec.toarray())\n"
   ],
   "metadata": {
    "collapsed": false,
    "ExecuteTime": {
     "end_time": "2023-12-04T23:57:08.659747Z",
     "start_time": "2023-12-04T23:55:41.235747Z"
    }
   },
   "id": "1d8b80407b934742"
  },
  {
   "cell_type": "code",
   "execution_count": 45,
   "outputs": [
    {
     "name": "stdout",
     "output_type": "stream",
     "text": [
      "Accuratezza RandomForestClassifier: 0.9918144611186903\n",
      "Accuratezza ExtraTreesClassifier: 0.992087312414734\n",
      "F1 Score RandomForestClassifier: 0.9918146488142275\n",
      "F1 Score ExtraTreesClassifier: 0.9920875032794837\n",
      "Precision RandomForestClassifier: 0.9919306176702839\n",
      "Precision ExtraTreesClassifier: 0.9921953820040026\n",
      "Recall RandomForestClassifier: 0.9918144611186903\n",
      "Recall ExtraTreesClassifier: 0.992087312414734\n"
     ]
    }
   ],
   "source": [
    "accuracy_rfc = accuracy_score(y_test, y_pred_rfc)\n",
    "accuracy_etc = accuracy_score(y_test, y_pred_etc)\n",
    "f1_rfc = f1_score(y_test, y_pred_rfc, average='weighted')\n",
    "f1_etc = f1_score(y_test, y_pred_etc, average='weighted')\n",
    "\n",
    "precision_rfc = precision_score(y_test, y_pred_rfc, average='weighted')\n",
    "precision_etc = precision_score(y_test, y_pred_etc, average='weighted')\n",
    "\n",
    "recall_rfc = recall_score(y_test, y_pred_rfc, average='weighted')\n",
    "recall_etc = recall_score(y_test, y_pred_etc, average='weighted')\n",
    "\n",
    "print(f\"Accuratezza RandomForestClassifier: {accuracy_rfc}\")\n",
    "print(f\"Accuratezza ExtraTreesClassifier: {accuracy_etc}\")\n",
    "print(f\"F1 Score RandomForestClassifier: {f1_rfc}\")\n",
    "print(f\"F1 Score ExtraTreesClassifier: {f1_etc}\")\n",
    "print(f\"Precision RandomForestClassifier: {precision_rfc}\")\n",
    "print(f\"Precision ExtraTreesClassifier: {precision_etc}\")\n",
    "print(f\"Recall RandomForestClassifier: {recall_rfc}\")\n",
    "print(f\"Recall ExtraTreesClassifier: {recall_etc}\")\n"
   ],
   "metadata": {
    "collapsed": false,
    "ExecuteTime": {
     "end_time": "2023-12-04T22:47:34.578337Z",
     "start_time": "2023-12-04T22:47:34.525849Z"
    }
   },
   "id": "717fa0b337191edc"
  },
  {
   "cell_type": "markdown",
   "source": [
    "# Utility"
   ],
   "metadata": {
    "collapsed": false
   },
   "id": "a2236984ea17540"
  },
  {
   "cell_type": "markdown",
   "source": [
    "## labels of the query for deployment testing"
   ],
   "metadata": {
    "collapsed": false
   },
   "id": "ea40d681b553e568"
  },
  {
   "cell_type": "code",
   "execution_count": null,
   "outputs": [],
   "source": [
    "y_use"
   ],
   "metadata": {
    "collapsed": false
   },
   "id": "be47aaf656516000"
  },
  {
   "cell_type": "markdown",
   "source": [
    "## Query for deployment testing"
   ],
   "metadata": {
    "collapsed": false
   },
   "id": "3d651fe56aa048b5"
  },
  {
   "cell_type": "code",
   "execution_count": null,
   "outputs": [],
   "source": [
    "x_use"
   ],
   "metadata": {
    "collapsed": false
   },
   "id": "11e493665c3803f1"
  },
  {
   "cell_type": "markdown",
   "source": [
    "## Model exporter"
   ],
   "metadata": {
    "collapsed": false
   },
   "id": "8be46d517b55cecc"
  },
  {
   "cell_type": "code",
   "execution_count": null,
   "outputs": [],
   "source": [
    "with open('vectorizer.pkl', 'wb') as file:\n",
    "    pickle.dump(vectorizer, file)\n"
   ],
   "metadata": {
    "collapsed": false
   },
   "id": "300f3e94b90dac10"
  },
  {
   "cell_type": "markdown",
   "source": [
    "## Confusion matrix generator"
   ],
   "metadata": {
    "collapsed": false
   },
   "id": "1cac53ebfd002aa4"
  },
  {
   "cell_type": "code",
   "execution_count": null,
   "outputs": [],
   "source": [
    "\n",
    "conf_matrix = confusion_matrix(y_test, y_pred_gnb)\n",
    "sns.heatmap(conf_matrix, annot=True, fmt=\"d\",cbar=False)\n",
    "plt.ylabel('True')\n",
    "plt.xlabel('Predicted')\n",
    "\n",
    "plt.show()"
   ],
   "metadata": {
    "collapsed": false
   },
   "id": "67d413db2485de51"
  },
  {
   "cell_type": "markdown",
   "source": [
    "## Roc Curve"
   ],
   "metadata": {
    "collapsed": false
   },
   "id": "22057012d19d6b9"
  },
  {
   "cell_type": "code",
   "execution_count": null,
   "outputs": [],
   "source": [
    "\n",
    "\n",
    "fpr, tpr, _ = roc_curve(y_test, gnb.predict_proba(X_test_vec.toarray())[:, 1])\n",
    "roc_auc = auc(fpr, tpr)\n",
    "\n",
    "plt.figure()\n",
    "plt.plot(fpr, tpr, color='darkorange', lw=2, label=f'ROC curve (area = {roc_auc:.2f})')\n",
    "plt.plot([0, 1], [0, 1], color='navy', lw=2, linestyle='--')\n",
    "plt.xlim([0.0, 1.0])\n",
    "plt.ylim([0.0, 1.05])\n",
    "plt.xlabel('False Positive Rate')\n",
    "plt.ylabel('True Positive Rate')\n",
    "plt.title('Receiver Operating Characteristic')\n",
    "plt.legend(loc='lower right')\n",
    "plt.show()"
   ],
   "metadata": {
    "collapsed": false
   },
   "id": "1798bb18a43288a1"
  }
 ],
 "metadata": {
  "kernelspec": {
   "display_name": "Python 3",
   "language": "python",
   "name": "python3"
  },
  "language_info": {
   "codemirror_mode": {
    "name": "ipython",
    "version": 2
   },
   "file_extension": ".py",
   "mimetype": "text/x-python",
   "name": "python",
   "nbconvert_exporter": "python",
   "pygments_lexer": "ipython2",
   "version": "2.7.6"
  }
 },
 "nbformat": 4,
 "nbformat_minor": 5
}
